{
 "cells": [
  {
   "cell_type": "markdown",
   "metadata": {},
   "source": [
    "# Estatística Descritiva"
   ]
  },
  {
   "cell_type": "markdown",
   "metadata": {},
   "source": [
    "Este trabalho implementa os códigos apresentados no capítulo 3, *Descriptive Statistics*, do livro *Introduction to Data Science: A Python Approach to Concepts, Techniques and Applications*."
   ]
  },
  {
   "cell_type": "markdown",
   "metadata": {},
   "source": [
    "Utilizamos o software [asdf](https://github.com/asdf-vm/asdf) para instalar a versão 2.7 do Python utilizada nesta implementação de acordo com a versão utilizada no livro *Introduction to Data Science: A Python Approach to Concepts, Techniques and Applications*.\n",
    "\n",
    "Este código encontra-se disponível em #TODO: colocar o link do repo aqui\n",
    "\n",
    "Para seu desenvolvimento instalamos o jupyter através do comando `pip install jupyter` e inicializamos o jupyter através do comando `jupyter notebook` para obter a interface web e criar esse arquivo."
   ]
  },
  {
   "cell_type": "code",
   "execution_count": 60,
   "metadata": {},
   "outputs": [
    {
     "name": "stdout",
     "output_type": "stream",
     "text": [
      "\u001b[33mDEPRECATION: Python 2.7 will reach the end of its life on January 1st, 2020. Please upgrade your Python as Python 2.7 won't be maintained after that date. A future version of pip will drop support for Python 2.7. More details about Python 2 support in pip, can be found at https://pip.pypa.io/en/latest/development/release-process/#python-2-support\u001b[0m\n",
      "Requirement already satisfied: pandas in /home/kadu/.asdf/installs/python/2.7.18/lib/python2.7/site-packages (0.24.2)\n",
      "Requirement already satisfied: python-dateutil>=2.5.0 in /home/kadu/.asdf/installs/python/2.7.18/lib/python2.7/site-packages (from pandas) (2.8.1)\n",
      "Requirement already satisfied: numpy>=1.12.0 in /home/kadu/.asdf/installs/python/2.7.18/lib/python2.7/site-packages (from pandas) (1.16.6)\n",
      "Requirement already satisfied: pytz>=2011k in /home/kadu/.asdf/installs/python/2.7.18/lib/python2.7/site-packages (from pandas) (2021.1)\n",
      "Requirement already satisfied: six>=1.5 in /home/kadu/.asdf/installs/python/2.7.18/lib/python2.7/site-packages (from python-dateutil>=2.5.0->pandas) (1.16.0)\n",
      "\u001b[33mWARNING: You are using pip version 19.2.3, however version 20.3.4 is available.\n",
      "You should consider upgrading via the 'pip install --upgrade pip' command.\u001b[0m\n",
      "\u001b[33mDEPRECATION: Python 2.7 will reach the end of its life on January 1st, 2020. Please upgrade your Python as Python 2.7 won't be maintained after that date. A future version of pip will drop support for Python 2.7. More details about Python 2 support in pip, can be found at https://pip.pypa.io/en/latest/development/release-process/#python-2-support\u001b[0m\n",
      "Requirement already satisfied: numpy in /home/kadu/.asdf/installs/python/2.7.18/lib/python2.7/site-packages (1.16.6)\n",
      "\u001b[33mWARNING: You are using pip version 19.2.3, however version 20.3.4 is available.\n",
      "You should consider upgrading via the 'pip install --upgrade pip' command.\u001b[0m\n",
      "\u001b[33mDEPRECATION: Python 2.7 will reach the end of its life on January 1st, 2020. Please upgrade your Python as Python 2.7 won't be maintained after that date. A future version of pip will drop support for Python 2.7. More details about Python 2 support in pip, can be found at https://pip.pypa.io/en/latest/development/release-process/#python-2-support\u001b[0m\n",
      "Requirement already satisfied: matplotlib in /home/kadu/.asdf/installs/python/2.7.18/lib/python2.7/site-packages (2.2.5)\n",
      "Requirement already satisfied: numpy>=1.7.1 in /home/kadu/.asdf/installs/python/2.7.18/lib/python2.7/site-packages (from matplotlib) (1.16.6)\n",
      "Requirement already satisfied: pyparsing!=2.0.4,!=2.1.2,!=2.1.6,>=2.0.1 in /home/kadu/.asdf/installs/python/2.7.18/lib/python2.7/site-packages (from matplotlib) (2.4.7)\n",
      "Requirement already satisfied: python-dateutil>=2.1 in /home/kadu/.asdf/installs/python/2.7.18/lib/python2.7/site-packages (from matplotlib) (2.8.1)\n",
      "Requirement already satisfied: kiwisolver>=1.0.1 in /home/kadu/.asdf/installs/python/2.7.18/lib/python2.7/site-packages (from matplotlib) (1.1.0)\n",
      "Requirement already satisfied: cycler>=0.10 in /home/kadu/.asdf/installs/python/2.7.18/lib/python2.7/site-packages (from matplotlib) (0.10.0)\n",
      "Requirement already satisfied: subprocess32 in /home/kadu/.asdf/installs/python/2.7.18/lib/python2.7/site-packages (from matplotlib) (3.5.4)\n",
      "Requirement already satisfied: pytz in /home/kadu/.asdf/installs/python/2.7.18/lib/python2.7/site-packages (from matplotlib) (2021.1)\n",
      "Requirement already satisfied: six>=1.10 in /home/kadu/.asdf/installs/python/2.7.18/lib/python2.7/site-packages (from matplotlib) (1.16.0)\n",
      "Requirement already satisfied: backports.functools-lru-cache in /home/kadu/.asdf/installs/python/2.7.18/lib/python2.7/site-packages (from matplotlib) (1.6.4)\n",
      "Requirement already satisfied: setuptools in /home/kadu/.asdf/installs/python/2.7.18/lib/python2.7/site-packages (from kiwisolver>=1.0.1->matplotlib) (41.2.0)\n",
      "\u001b[33mWARNING: You are using pip version 19.2.3, however version 20.3.4 is available.\n",
      "You should consider upgrading via the 'pip install --upgrade pip' command.\u001b[0m\n",
      "\u001b[33mDEPRECATION: Python 2.7 will reach the end of its life on January 1st, 2020. Please upgrade your Python as Python 2.7 won't be maintained after that date. A future version of pip will drop support for Python 2.7. More details about Python 2 support in pip, can be found at https://pip.pypa.io/en/latest/development/release-process/#python-2-support\u001b[0m\n",
      "Requirement already satisfied: seaborn in /home/kadu/.asdf/installs/python/2.7.18/lib/python2.7/site-packages (0.9.1)\n",
      "Requirement already satisfied: matplotlib>=1.5.3 in /home/kadu/.asdf/installs/python/2.7.18/lib/python2.7/site-packages (from seaborn) (2.2.5)\n",
      "Requirement already satisfied: pandas>=0.17.1 in /home/kadu/.asdf/installs/python/2.7.18/lib/python2.7/site-packages (from seaborn) (0.24.2)\n",
      "Requirement already satisfied: numpy>=1.10.4 in /home/kadu/.asdf/installs/python/2.7.18/lib/python2.7/site-packages (from seaborn) (1.16.6)\n",
      "Requirement already satisfied: scipy>=0.17.1 in /home/kadu/.asdf/installs/python/2.7.18/lib/python2.7/site-packages (from seaborn) (1.2.3)\n",
      "Requirement already satisfied: pyparsing!=2.0.4,!=2.1.2,!=2.1.6,>=2.0.1 in /home/kadu/.asdf/installs/python/2.7.18/lib/python2.7/site-packages (from matplotlib>=1.5.3->seaborn) (2.4.7)\n",
      "Requirement already satisfied: python-dateutil>=2.1 in /home/kadu/.asdf/installs/python/2.7.18/lib/python2.7/site-packages (from matplotlib>=1.5.3->seaborn) (2.8.1)\n",
      "Requirement already satisfied: kiwisolver>=1.0.1 in /home/kadu/.asdf/installs/python/2.7.18/lib/python2.7/site-packages (from matplotlib>=1.5.3->seaborn) (1.1.0)\n",
      "Requirement already satisfied: cycler>=0.10 in /home/kadu/.asdf/installs/python/2.7.18/lib/python2.7/site-packages (from matplotlib>=1.5.3->seaborn) (0.10.0)\n",
      "Requirement already satisfied: subprocess32 in /home/kadu/.asdf/installs/python/2.7.18/lib/python2.7/site-packages (from matplotlib>=1.5.3->seaborn) (3.5.4)\n",
      "Requirement already satisfied: pytz in /home/kadu/.asdf/installs/python/2.7.18/lib/python2.7/site-packages (from matplotlib>=1.5.3->seaborn) (2021.1)\n",
      "Requirement already satisfied: six>=1.10 in /home/kadu/.asdf/installs/python/2.7.18/lib/python2.7/site-packages (from matplotlib>=1.5.3->seaborn) (1.16.0)\n",
      "Requirement already satisfied: backports.functools-lru-cache in /home/kadu/.asdf/installs/python/2.7.18/lib/python2.7/site-packages (from matplotlib>=1.5.3->seaborn) (1.6.4)\n",
      "Requirement already satisfied: setuptools in /home/kadu/.asdf/installs/python/2.7.18/lib/python2.7/site-packages (from kiwisolver>=1.0.1->matplotlib>=1.5.3->seaborn) (41.2.0)\n",
      "\u001b[33mWARNING: You are using pip version 19.2.3, however version 20.3.4 is available.\n",
      "You should consider upgrading via the 'pip install --upgrade pip' command.\u001b[0m\n"
     ]
    }
   ],
   "source": [
    "# No livro é comentado sobre o pacote python anaconda que já traz vários pacotes para data science. Neste trabalho\n",
    "# instalamos apenas o python e por isso colocamos essas linhas para instalar as bibliotecas utilizadas no capítulo\n",
    "# 3 do livro\n",
    "!pip install pandas\n",
    "!pip install numpy\n",
    "!pip install matplotlib\n",
    "!pip install seaborn"
   ]
  },
  {
   "cell_type": "markdown",
   "metadata": {},
   "source": [
    "## Introdução"
   ]
  },
  {
   "cell_type": "markdown",
   "metadata": {},
   "source": [
    "## Preparação dos Dados"
   ]
  },
  {
   "cell_type": "markdown",
   "metadata": {},
   "source": [
    "### Este exemplo"
   ]
  },
  {
   "cell_type": "code",
   "execution_count": 61,
   "metadata": {},
   "outputs": [],
   "source": [
    "import pandas as pd\n",
    "import numpy as np\n",
    "import matplotlib.pyplot as plt"
   ]
  },
  {
   "cell_type": "code",
   "execution_count": 4,
   "metadata": {},
   "outputs": [],
   "source": [
    "# Lendo as informações da base de dados disponibilizada em https://archive.ics.uci.edu/ml/datasets/Adult\n",
    "file = open (\"adult.data\", \"r\")\n",
    "def chr_int(a):\n",
    "    if a.isdigit(): return int(a)\n",
    "    else: return 0\n",
    "    \n",
    "data = []\n",
    "for line in file:\n",
    "    data1 = line.split(\", \")\n",
    "    if len(data1) == 15:\n",
    "        data.append([chr_int(data1[0]), data1[1],\n",
    "                     chr_int(data1[2]), data1[3],\n",
    "                     chr_int(data1[4]), data1[5],\n",
    "                     data1[6], data1[7], data1[8],\n",
    "                     data1[9], chr_int(data1[10]),\n",
    "                     chr_int(data1[11]),\n",
    "                     chr_int(data1[12]),\n",
    "                     data1[13], data1[14]\n",
    "                    ])"
   ]
  },
  {
   "cell_type": "code",
   "execution_count": 73,
   "metadata": {},
   "outputs": [
    {
     "name": "stdout",
     "output_type": "stream",
     "text": [
      "[[50, 'Self-emp-not-inc', 83311, 'Bachelors', 13, 'Married-civ-spouse', 'Exec-managerial', 'Husband', 'White', 'Male', 0, 0, 13, 'United-States', '<=50K\\n']]\n"
     ]
    }
   ],
   "source": [
    "# Imprimindo o primeiro elemento dos dados carregados (lista). [1:5] é equivalente a \"de 1 até 5\" (5 não incluso)\n",
    "print data[1:2]"
   ]
  },
  {
   "cell_type": "code",
   "execution_count": 74,
   "metadata": {},
   "outputs": [],
   "source": [
    "# Aqui transformamos os dados em um DataFrame, que é uma forma de representar dados tabulares. A implementação\n",
    "# desta estrutura é dada pela biblioteca pandas e fornece diversas métodos úteis para lidar com estes dados.\n",
    "df = pd.DataFrame(data)\n",
    "df.columns = [\n",
    "    \"age\", \"type_employer\", \"fnlwgt\", \"education\", \"education_num\", \"martial\", \"occupation\", \"relationship\",\n",
    "    \"race\", \"sex\", \"capital_gain\", \"capital_loss\", \"hr_per_week\", \"country\", \"income\"\n",
    "]"
   ]
  },
  {
   "cell_type": "code",
   "execution_count": 16,
   "metadata": {},
   "outputs": [
    {
     "data": {
      "text/plain": [
       "(32561, 15)"
      ]
     },
     "execution_count": 16,
     "metadata": {},
     "output_type": "execute_result"
    }
   ],
   "source": [
    "# O método shape retorna a quantidade de linhas e colunas presentes nos dados carregados.\n",
    "df.shape"
   ]
  },
  {
   "cell_type": "code",
   "execution_count": 17,
   "metadata": {},
   "outputs": [
    {
     "name": "stdout",
     "output_type": "stream",
     "text": [
      "country\n",
      "?           583\n",
      "Cambodia     19\n",
      "Canada      121\n",
      "China        75\n",
      "Columbia     59\n",
      "dtype: int64\n"
     ]
    }
   ],
   "source": [
    "# Através do DataFrame é possível agrupar os dados por colunas específicas\n",
    "counts = df.groupby(\"country\").size()\n",
    "print counts.head()"
   ]
  },
  {
   "cell_type": "code",
   "execution_count": 18,
   "metadata": {},
   "outputs": [],
   "source": [
    "# Também é possível selecionar subconjuntos dos dados, abaixo é utilizado a sintaxe do DataFrame para selecionar\n",
    "# apenas as linhas onde a coluna 'sex' é igual a 'Male'\n",
    "ml = df[(df.sex == \"Male\")]"
   ]
  },
  {
   "cell_type": "code",
   "execution_count": 19,
   "metadata": {},
   "outputs": [],
   "source": [
    "# Também podemos combinar várias condições para obter subconjuntos mais específicos, neste caso logo abaixo\n",
    "# selecionamos homens com salários altos.\n",
    "ml1 = df[(df.sex == \"Male\") & (df.income == \">50K\\n\")]\n",
    "fm = df[(df.sex == \"Female\")]\n",
    "fm1 = df[(df.sex == \"Female\") & (df.income == \">50K\\n\")]"
   ]
  },
  {
   "cell_type": "markdown",
   "metadata": {},
   "source": [
    "## Análise de Dados Exploratória\n",
    "\n",
    "### Sumarizando os Dados"
   ]
  },
  {
   "cell_type": "code",
   "execution_count": 23,
   "metadata": {},
   "outputs": [
    {
     "name": "stdout",
     "output_type": "stream",
     "text": [
      "The rate of people with high income is: 24 %\n",
      "The rate of men with high income is: 30 %\n",
      "The rate of women with high income is: 10 %\n"
     ]
    }
   ],
   "source": [
    "# Explorando a frequência de dados categóricos\n",
    "df1 = df[(df.income == \">50K\\n\")]\n",
    "print \"The rate of people with high income is:\", int(len(df1) / float(len(df)) * 100), \"%\"\n",
    "print \"The rate of men with high income is:\", int(len(ml1) / float(len(ml)) * 100), \"%\"\n",
    "print \"The rate of women with high income is:\", int(len(fm1) / float(len(fm)) * 100), \"%\""
   ]
  },
  {
   "cell_type": "markdown",
   "metadata": {},
   "source": [
    "#### Média"
   ]
  },
  {
   "cell_type": "code",
   "execution_count": 24,
   "metadata": {},
   "outputs": [
    {
     "name": "stdout",
     "output_type": "stream",
     "text": [
      "The average age of men is: 39.43354749885268\n",
      "The average age of women is: 36.85823043357163\n",
      "The average age of high-income men is: 44.62578805163614\n",
      "The average age of high-income women is: 42.125530110262936\n"
     ]
    }
   ],
   "source": [
    "# Média de idade dos homens\n",
    "print \"The average age of men is:\", ml[\"age\"].mean()\n",
    "# Média de idade dos homens com maiores salários\n",
    "print \"The average age of women is:\", fm[\"age\"].mean()\n",
    "\n",
    "# Média de idade das mulheres\n",
    "print \"The average age of high-income men is:\", ml1[\"age\"].mean()\n",
    "# Média de idade das mulheres com maiores salários\n",
    "print \"The average age of high-income women is:\", fm1[\"age\"].mean()"
   ]
  },
  {
   "cell_type": "markdown",
   "metadata": {},
   "source": [
    "#### Variância da Amostra"
   ]
  },
  {
   "cell_type": "code",
   "execution_count": 26,
   "metadata": {},
   "outputs": [
    {
     "name": "stdout",
     "output_type": "stream",
     "text": [
      "Statistics of age for men: mu: 39.43354749885268 var: 178.77375174529985 std: 13.370630192526448\n",
      "Statistics of age for women: mu: 36.85823043357163 var: 196.3837063948063 std: 14.013697099438332\n"
     ]
    }
   ],
   "source": [
    "# Média, variância e desvio padrão das idades de homens e mulheres\n",
    "ml_mu = ml[\"age\"].mean()\n",
    "fm_mu = fm[\"age\"].mean()\n",
    "ml_var = ml[\"age\"].var()\n",
    "fm_var = fm[\"age\"].var()\n",
    "ml_std = ml[\"age\"].std()\n",
    "fm_std = fm[\"age\"].std()\n",
    "print \"Statistics of age for men: mu:\", ml_mu, \"var:\", ml_var, \"std:\", ml_std\n",
    "print \"Statistics of age for women: mu:\", fm_mu, \"var:\", fm_var, \"std:\", fm_std"
   ]
  },
  {
   "cell_type": "markdown",
   "metadata": {},
   "source": [
    "#### Mediana da Amostra"
   ]
  },
  {
   "cell_type": "code",
   "execution_count": 27,
   "metadata": {},
   "outputs": [
    {
     "name": "stdout",
     "output_type": "stream",
     "text": [
      "Median age per men and women: 38.0 35.0\n",
      "Median age per men and women with high-income: 44.0 41.0\n"
     ]
    }
   ],
   "source": [
    "# Mediana das idades de homens e mulheres\n",
    "ml_median = ml[\"age\"].median()\n",
    "fm_median = fm[\"age\"].median()\n",
    "print \"Median age per men and women:\", ml_median, fm_median\n",
    "\n",
    "# Mediana das idades de homens e mulheres com maiores salários (como é de se esperar, a mediana neste caso é\n",
    "# maior)\n",
    "ml_median_age = ml1[\"age\"].median()\n",
    "fm_median_age = fm1[\"age\"].median()\n",
    "print \"Median age per men and women with high-income:\", ml_median_age, fm_median_age"
   ]
  },
  {
   "cell_type": "markdown",
   "metadata": {},
   "source": [
    "#### Quantis e Percentis"
   ]
  },
  {
   "cell_type": "markdown",
   "metadata": {},
   "source": [
    "### Distribuições de Dados"
   ]
  },
  {
   "cell_type": "code",
   "execution_count": 84,
   "metadata": {},
   "outputs": [
    {
     "data": {
      "text/plain": [
       "<matplotlib.axes._subplots.AxesSubplot at 0x7f286c3ecd50>"
      ]
     },
     "execution_count": 84,
     "metadata": {},
     "output_type": "execute_result"
    },
    {
     "data": {
      "image/png": "[encoded data removed]",
      "text/plain": [
       "<Figure size 432x288 with 1 Axes>"
      ]
     },
     "metadata": {
      "needs_background": "light"
     },
     "output_type": "display_data"
    }
   ],
   "source": [
    "# Histograma das idades dos homens\n",
    "ml_age = ml[\"age\"]\n",
    "ml_age.hist(normed = 0, histtype = \"stepfilled\", bins = 20)"
   ]
  },
  {
   "cell_type": "code",
   "execution_count": 91,
   "metadata": {},
   "outputs": [
    {
     "data": {
      "text/plain": [
       "<matplotlib.axes._subplots.AxesSubplot at 0x7f286c015ad0>"
      ]
     },
     "execution_count": 91,
     "metadata": {},
     "output_type": "execute_result"
    },
    {
     "data": {
      "image/png": "[encoded data removed]",
      "text/plain": [
       "<Figure size 432x288 with 1 Axes>"
      ]
     },
     "metadata": {
      "needs_background": "light"
     },
     "output_type": "display_data"
    }
   ],
   "source": [
    "# Histograma das idades das mulheres\n",
    "fm_age = fm[\"age\"]\n",
    "fm_age.hist(normed = 0, histtype = \"stepfilled\", bins = 20)"
   ]
  },
  {
   "cell_type": "code",
   "execution_count": 90,
   "metadata": {},
   "outputs": [
    {
     "data": {
      "text/plain": [
       "<matplotlib.axes._subplots.AxesSubplot at 0x7f286c33f410>"
      ]
     },
     "execution_count": 90,
     "metadata": {},
     "output_type": "execute_result"
    },
    {
     "data": {
      "image/png": "[encoded data removed]",
      "text/plain": [
       "<Figure size 432x288 with 1 Axes>"
      ]
     },
     "metadata": {
      "needs_background": "light"
     },
     "output_type": "display_data"
    }
   ],
   "source": [
    "# Combinando os histogramas é possível ver facialmente a quantidade de pessoas sexo em cada classe de idade. Neste\n",
    "# caso, podemos ver que existem muito mais homens que mulheres.\n",
    "fm_age.hist(normed = 0, histtype = \"stepfilled\", alpha = .5, bins = 20)\n",
    "ml_age.hist(normed = 0, histtype = \"stepfilled\", alpha = .5, bins = 20, color = sns.desaturate(\"indianred\", .75))"
   ]
  },
  {
   "cell_type": "code",
   "execution_count": 93,
   "metadata": {},
   "outputs": [
    {
     "data": {
      "text/plain": [
       "<matplotlib.axes._subplots.AxesSubplot at 0x7f283ffdb910>"
      ]
     },
     "execution_count": 93,
     "metadata": {},
     "output_type": "execute_result"
    },
    {
     "data": {
      "image/png": "[encoded data removed]",
      "text/plain": [
       "<Figure size 432x288 with 1 Axes>"
      ]
     },
     "metadata": {
      "needs_background": "light"
     },
     "output_type": "display_data"
    }
   ],
   "source": [
    "# Também é possível normalizar os dados de cada classe de acordo com o tamanho da amostra. Isso é feito dividindo\n",
    "# as frequências de cada classe por n (tamanho da amostra). Este tipo de histograma é chamado de Função Massa de\n",
    "# Probabilidade (FMP). Apesar de terem menos mulheres, verificamos neste gráfico que a probabilidade de mulheres\n",
    "# é muito maior nas classes de [15-20) e [20-25).\n",
    "fm_age.hist(normed = 1, histtype = \"stepfilled\", alpha = .5, bins = 20)\n",
    "ml_age.hist(normed = 1, histtype = \"stepfilled\", alpha = .5, bins = 20, color = sns.desaturate(\"indianred\", .75))"
   ]
  },
  {
   "cell_type": "code",
   "execution_count": 43,
   "metadata": {},
   "outputs": [
    {
     "data": {
      "text/plain": [
       "<matplotlib.axes._subplots.AxesSubplot at 0x7f2873259490>"
      ]
     },
     "execution_count": 43,
     "metadata": {},
     "output_type": "execute_result"
    },
    {
     "data": {
      "image/png": "[encoded data removed]",
      "text/plain": [
       "<Figure size 432x288 with 1 Axes>"
      ]
     },
     "metadata": {
      "needs_background": "light"
     },
     "output_type": "display_data"
    }
   ],
   "source": [
    "# Abaixo é plotado um histograma como uma Função Distribuição Acumulada (FDA). Através desta é possível\n",
    "# identificar facilmente a porcentagem de valores abaixo de uma determinada classe. Neste caso vemos a FDA das\n",
    "# idades de homens (azul) e mulheres (vermelho).\n",
    "ml_age.hist(normed = 1, histtype = \"step\", cumulative = True, linewidth = 3.5, bins = 20)\n",
    "fm_age.hist(normed = 1, histtype = \"step\", cumulative = True, linewidth = 3.5, bins = 20,\n",
    "            color = sns.desaturate(\"indianred\", .75))"
   ]
  },
  {
   "cell_type": "markdown",
   "metadata": {},
   "source": [
    "### Tratamento de Outlier"
   ]
  },
  {
   "cell_type": "code",
   "execution_count": 44,
   "metadata": {},
   "outputs": [],
   "source": [
    "df2 = df.drop(df.index[(df.income == \">50K\\n\") &\n",
    "                       (df[\"age\"] > df[\"age\"].median() + 35) &\n",
    "                       (df[\"age\"] > df[\"age\"].median() - 15)\n",
    "                      ])\n",
    "ml1_age = ml1[\"age\"]\n",
    "fm1_age = fm1[\"age\"]\n",
    "\n",
    "ml2_age = ml1_age.drop(ml1_age.index[\n",
    "    (ml1_age > df[\"age\"].median() + 35) &\n",
    "    (ml1_age > df[\"age\"].median() - 15)\n",
    "])\n",
    "fm2_age = fm1_age.drop(fm1_age.index[\n",
    "    (fm1_age > df[\"age\"].median() + 35) &\n",
    "    (fm1_age > df[\"age\"].median() - 15)\n",
    "])"
   ]
  },
  {
   "cell_type": "code",
   "execution_count": 45,
   "metadata": {},
   "outputs": [
    {
     "name": "stdout",
     "output_type": "stream",
     "text": [
      "Men statistics:\n",
      "Mean: 44.317982123920615 Std: 10.019749857171409\n",
      "Median: 44.0\n",
      "Min: 19 Max: 72\n",
      "Women statistics:\n",
      "Mean: 41.877028181041844 Std: 10.036441807343707\n",
      "Median: 41.0\n",
      "Min: 19 Max: 72\n"
     ]
    }
   ],
   "source": [
    "mu2ml = ml2_age.mean()\n",
    "std2ml = ml2_age.std()\n",
    "md2ml = ml2_age.median()\n",
    "mu2fm = fm2_age.mean()\n",
    "std2fm = fm2_age.std()\n",
    "md2fm = fm2_age.median()\n",
    "\n",
    "print \"Men statistics:\"\n",
    "print \"Mean:\", mu2ml, \"Std:\", std2ml\n",
    "print \"Median:\", md2ml\n",
    "print \"Min:\", ml2_age.min(), \"Max:\", ml2_age.max()\n",
    "\n",
    "print \"Women statistics:\"\n",
    "print \"Mean:\", mu2fm, \"Std:\", std2fm\n",
    "print \"Median:\", md2fm\n",
    "print \"Min:\", fm2_age.min(), \"Max:\", fm2_age.max()"
   ]
  },
  {
   "cell_type": "code",
   "execution_count": 46,
   "metadata": {},
   "outputs": [
    {
     "data": {
      "text/plain": [
       "<matplotlib.axes._subplots.AxesSubplot at 0x7f287335d450>"
      ]
     },
     "execution_count": 46,
     "metadata": {},
     "output_type": "execute_result"
    },
    {
     "data": {
      "image/png": "[encoded data removed]",
      "text/plain": [
       "<Figure size 964.8x360 with 1 Axes>"
      ]
     },
     "metadata": {
      "needs_background": "light"
     },
     "output_type": "display_data"
    }
   ],
   "source": [
    "plt.figure(figsize = (13.4, 5))\n",
    "df.age[(df.income == \">50K\\n\")].plot(alpha = .25, color = \"blue\")\n",
    "df2.age[(df.income == \">50K\\n\")].plot(alpha = .45, color = \"red\")"
   ]
  },
  {
   "cell_type": "code",
   "execution_count": 47,
   "metadata": {},
   "outputs": [
    {
     "name": "stdout",
     "output_type": "stream",
     "text": [
      "The mean difference with outliers is: 2.58.\n",
      "The mean difference without outliers is: 2.44.\n"
     ]
    }
   ],
   "source": [
    "print \"The mean difference with outliers is: %4.2f.\" % (ml_age.mean() - fm_age.mean())\n",
    "print \"The mean difference without outliers is: %4.2f.\" %(ml2_age.mean() - fm2_age.mean())"
   ]
  },
  {
   "cell_type": "code",
   "execution_count": 48,
   "metadata": {},
   "outputs": [
    {
     "name": "stderr",
     "output_type": "stream",
     "text": [
      "/home/kadu/.asdf/installs/python/2.7.18/lib/python2.7/site-packages/ipykernel_launcher.py:1: VisibleDeprecationWarning: Passing `normed=True` on non-uniform bins has always been broken, and computes neither the probability density function nor the probability mass function. The result is only correct if the bins are uniform, when density=True will produce the same result anyway. The argument will be removed in a future version of numpy.\n",
      "  \"\"\"Entry point for launching an IPython kernel.\n",
      "/home/kadu/.asdf/installs/python/2.7.18/lib/python2.7/site-packages/ipykernel_launcher.py:2: VisibleDeprecationWarning: Passing `normed=True` on non-uniform bins has always been broken, and computes neither the probability density function nor the probability mass function. The result is only correct if the bins are uniform, when density=True will produce the same result anyway. The argument will be removed in a future version of numpy.\n",
      "  \n"
     ]
    },
    {
     "data": {
      "text/plain": [
       "[<matplotlib.lines.Line2D at 0x7f28733a9850>]"
      ]
     },
     "execution_count": 48,
     "metadata": {},
     "output_type": "execute_result"
    },
    {
     "data": {
      "image/png": "[encoded data removed]",
      "text/plain": [
       "<Figure size 432x288 with 1 Axes>"
      ]
     },
     "metadata": {
      "needs_background": "light"
     },
     "output_type": "display_data"
    }
   ],
   "source": [
    "countx, divisionx = np.histogram(ml2_age, normed = True)\n",
    "county, divisiony = np.histogram(fm2_age, normed = True)\n",
    "\n",
    "val = [(divisionx[i] + divisionx[i+1]) / 2 for i in range(len(divisionx) - 1)]\n",
    "plt.plot(val, countx - county, \"o-\")"
   ]
  },
  {
   "cell_type": "code",
   "execution_count": 50,
   "metadata": {},
   "outputs": [
    {
     "name": "stdout",
     "output_type": "stream",
     "text": [
      "Skewness of the male population = 0.26644438384328223\n",
      "Skewness of the female population = 0.3863335249128606\n"
     ]
    }
   ],
   "source": [
    "def skewness(x):\n",
    "    res = 0\n",
    "    m = x.mean()\n",
    "    s = x.std()\n",
    "    for i in x:\n",
    "        res += (i-m) * (i-m) * (i-m)\n",
    "    res /= (len(x) * s * s * s)\n",
    "    return res\n",
    "\n",
    "print \"Skewness of the male population =\", skewness(ml2_age)\n",
    "print \"Skewness of the female population =\", skewness(fm2_age)"
   ]
  },
  {
   "cell_type": "code",
   "execution_count": 51,
   "metadata": {},
   "outputs": [
    {
     "name": "stdout",
     "output_type": "stream",
     "text": [
      "Person's coefficient of the male population = 9.558304022209926\n",
      "Person's coefficient of the female population = 26.406726907280902\n"
     ]
    }
   ],
   "source": [
    "def pearson(x):\n",
    "    return 3 * (x.mean() - x.median()) * x.std()\n",
    "\n",
    "print \"Person's coefficient of the male population =\", pearson(ml2_age)\n",
    "print \"Person's coefficient of the female population =\", pearson(fm2_age)"
   ]
  },
  {
   "cell_type": "code",
   "execution_count": 54,
   "metadata": {},
   "outputs": [
    {
     "data": {
      "text/plain": [
       "[<matplotlib.lines.Line2D at 0x7f287304cf10>]"
      ]
     },
     "execution_count": 54,
     "metadata": {},
     "output_type": "execute_result"
    },
    {
     "data": {
      "image/png": "[encoded data removed]",
      "text/plain": [
       "<Figure size 432x288 with 1 Axes>"
      ]
     },
     "metadata": {
      "needs_background": "light"
     },
     "output_type": "display_data"
    }
   ],
   "source": [
    "from scipy.stats import norm\n",
    "x1 = np.random.normal(-1, 0.5, 15)\n",
    "x2 = np.random.normal(6, 1, 10)\n",
    "y = np.r_[x1, x2] # r_ translates slice objects to concatenation along the first axis.\n",
    "x = np.linspace(min(y), max(y), 100)\n",
    "\n",
    "s = 0.4 # Smoothing parameter\n",
    "\n",
    "# Calculate the kernels\n",
    "kernels = np.transpose([norm.pdf(x, yi, s) for yi in y])\n",
    "plt.plot(x, kernels, \"k:\")\n",
    "plt.plot(x, kernels.sum(1), \"r\")\n",
    "plt.plot(y, np.zeros(len(y)), \"bo\", ms = 10)"
   ]
  },
  {
   "cell_type": "code",
   "execution_count": 55,
   "metadata": {},
   "outputs": [
    {
     "data": {
      "text/plain": [
       "[<matplotlib.lines.Line2D at 0x7f28401602d0>]"
      ]
     },
     "execution_count": 55,
     "metadata": {},
     "output_type": "execute_result"
    },
    {
     "data": {
      "image/png": "[encoded data removed]",
      "text/plain": [
       "<Figure size 432x288 with 1 Axes>"
      ]
     },
     "metadata": {
      "needs_background": "light"
     },
     "output_type": "display_data"
    }
   ],
   "source": [
    "from scipy.stats import kde\n",
    "density = kde.gaussian_kde(y)\n",
    "xgrid = np.linspace(x.min(), x.max(), 200)\n",
    "plt.hist(y, bins = 28, normed = True)\n",
    "plt.plot(xgrid, density(xgrid), \"r-\")"
   ]
  },
  {
   "cell_type": "code",
   "execution_count": 57,
   "metadata": {},
   "outputs": [
    {
     "name": "stdout",
     "output_type": "stream",
     "text": [
      " MSE: 0.0010529925113269157\n"
     ]
    }
   ],
   "source": [
    "NTs = 200\n",
    "mu = 0.0\n",
    "var = 1.0\n",
    "err = 0.0\n",
    "NPs = 1000\n",
    "for i in range(NTs):\n",
    "    x = np.random.normal(mu, var, NPs)\n",
    "    err += (x.mean() - mu) ** 2\n",
    "print \"MSE:\", err/NTs"
   ]
  }
 ],
 "metadata": {
  "kernelspec": {
   "display_name": "Python 2",
   "language": "python",
   "name": "python2"
  },
  "language_info": {
   "codemirror_mode": {
    "name": "ipython",
    "version": 2
   },
   "file_extension": ".py",
   "mimetype": "text/x-python",
   "name": "python",
   "nbconvert_exporter": "python",
   "pygments_lexer": "ipython2",
   "version": "2.7.18"
  }
 },
 "nbformat": 4,
 "nbformat_minor": 2
}
